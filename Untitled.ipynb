{
 "cells": [
  {
   "cell_type": "code",
   "execution_count": 13,
   "metadata": {},
   "outputs": [],
   "source": [
    "from nltk.corpus import stopwords\n",
    "from nltk.cluster.util import cosine_distance\n",
    "import numpy as np\n",
    "import networkx as nx"
   ]
  },
  {
   "cell_type": "code",
   "execution_count": 32,
   "metadata": {},
   "outputs": [],
   "source": [
    "def read_article(file_name):\n",
    "    file=open(file_name,\"r\")\n",
    "    filedata=file.readlines()\n",
    "    article=filedata[0].split(\". \")\n",
    "    sentences=[]\n",
    "    \n",
    "    for sentence in article:\n",
    "        print(sentence)\n",
    "        sentences.append(sentence.replace(\"[^a-zA-z]\",\" \").split(\" \"))\n",
    "    sentences.pop()\n",
    "    return sentences"
   ]
  },
  {
   "cell_type": "code",
   "execution_count": 42,
   "metadata": {},
   "outputs": [],
   "source": [
    "def sentence_similarity(sent1, sent2, stopwords=None):\n",
    "    if stopwords is None:\n",
    "        stopwords = []\n",
    " \n",
    "    sent1 = [w.lower() for w in sent1]\n",
    "    sent2 = [w.lower() for w in sent2]\n",
    " \n",
    "    all_words = list(set(sent1 + sent2))\n",
    " \n",
    "    vector1 = [0] * len(all_words)\n",
    "    vector2 = [0] * len(all_words)\n",
    " \n",
    "    # build the vector for the first sentence\n",
    "    for w in sent1:\n",
    "        if w in stopwords:\n",
    "            continue\n",
    "        vector1[all_words.index(w)] += 1\n",
    " \n",
    "    # build the vector for the second sentence\n",
    "    for w in sent2:\n",
    "        if w in stopwords:\n",
    "            continue\n",
    "        vector2[all_words.index(w)] += 1\n",
    " \n",
    "    return 1 - cosine_distance(vector1, vector2)"
   ]
  },
  {
   "cell_type": "code",
   "execution_count": 43,
   "metadata": {},
   "outputs": [],
   "source": [
    "def build_similarity_matrix(sentences,stop_words):\n",
    "    similarity_matrix=np.zeros((len(sentences),len(sentences)))\n",
    "    for idx1 in range(len(sentences)):\n",
    "        for idx2 in range(len(sentences)):\n",
    "            if idx1==idx2:\n",
    "                continue\n",
    "            similarity_matrix[idx1][idx2]=sentence_similarity(sentences[idx1],sentences[idx2],stop_words)\n",
    "    return similarity_matrix"
   ]
  },
  {
   "cell_type": "code",
   "execution_count": 50,
   "metadata": {},
   "outputs": [],
   "source": [
    "def generate_summary(file_name,top_n=5):\n",
    "    stop_words=stopwords.words('english')\n",
    "    summarize_text=[]\n",
    "    \n",
    "    sentences=read_article(file_name)\n",
    "    \n",
    "    sentences_similarity_matrix=build_similarity_matrix(sentences,stop_words)\n",
    "    \n",
    "    sentences_similarity_graph=nx.from_numpy_array(sentences_similarity_matrix)\n",
    "    scores=nx.pagerank(sentences_similarity_graph)\n",
    "    \n",
    "    ranked_sentence = sorted(((scores[i],s) for i,s in enumerate(sentences)), reverse=True)    \n",
    "    print(\"Indexes of top ranked_sentence order are \", ranked_sentence)\n",
    "    \n",
    "    for i in range(top_n):\n",
    "      summarize_text.append(\" \".join(ranked_sentence[i][1]))\n",
    "    \n",
    "    print(\"Summarize Text: \\n\", \". \".join(summarize_text))"
   ]
  },
  {
   "cell_type": "code",
   "execution_count": 55,
   "metadata": {},
   "outputs": [
    {
     "name": "stdout",
     "output_type": "stream",
     "text": [
      "Acnesol Gel is an antibiotic that fights bacteria\n",
      "It is used to treat acne, which appears as spots or pimples on your face, chest or back\n",
      "This medicine works by attacking the bacteria that cause these pimples.Acnesol Gel is only meant for external use and should be used as advised by your doctor\n",
      "You should normally wash and dry the affected area before applying a thin layer of the medicine\n",
      "It should not be applied to broken or damaged skin\n",
      "Avoid any contact with your eyes, nose, or mouth\n",
      "Rinse it off with water if you accidentally get it in these areas\n",
      "It may take several weeks for your symptoms to improve, but you should keep using this medicine regularly\n",
      "Do not stop using it as soon as your acne starts to get better\n",
      "Ask your doctor when you should stop treatment.Common side effects like minor itching, burning, or redness of the skin and oily skin may be seen in some people\n",
      "These are usually temporary and resolve on their own\n",
      "Consult your doctor if they bother you or do not go away.It is a safe medicine, but you should inform your doctor if you have any problems with your bowels (intestines)\n",
      "Also, inform the doctor if you have ever had bloody diarrhea caused by taking antibiotics or if you are using any other medicines to treat skin conditions\n",
      "Consult your doctor about using this medicine if you are pregnant or breastfeeding.\n",
      "Indexes of top ranked_sentence order are  [(0.15627839931989554, ['Also,', 'inform', 'the', 'doctor', 'if', 'you', 'have', 'ever', 'had', 'bloody', 'diarrhea', 'caused', 'by', 'taking', 'antibiotics', 'or', 'if', 'you', 'are', 'using', 'any', 'other', 'medicines', 'to', 'treat', 'skin', 'conditions']), (0.15309441168579796, ['This', 'medicine', 'works', 'by', 'attacking', 'the', 'bacteria', 'that', 'cause', 'these', 'pimples.Acnesol', 'Gel', 'is', 'only', 'meant', 'for', 'external', 'use', 'and', 'should', 'be', 'used', 'as', 'advised', 'by', 'your', 'doctor']), (0.13395877187312413, ['Ask', 'your', 'doctor', 'when', 'you', 'should', 'stop', 'treatment.Common', 'side', 'effects', 'like', 'minor', 'itching,', 'burning,', 'or', 'redness', 'of', 'the', 'skin', 'and', 'oily', 'skin', 'may', 'be', 'seen', 'in', 'some', 'people']), (0.09798989278763565, ['Do', 'not', 'stop', 'using', 'it', 'as', 'soon', 'as', 'your', 'acne', 'starts', 'to', 'get', 'better']), (0.09273373121404072, ['It', 'may', 'take', 'several', 'weeks', 'for', 'your', 'symptoms', 'to', 'improve,', 'but', 'you', 'should', 'keep', 'using', 'this', 'medicine', 'regularly']), (0.08791282291845631, ['Consult', 'your', 'doctor', 'if', 'they', 'bother', 'you', 'or', 'do', 'not', 'go', 'away.It', 'is', 'a', 'safe', 'medicine,', 'but', 'you', 'should', 'inform', 'your', 'doctor', 'if', 'you', 'have', 'any', 'problems', 'with', 'your', 'bowels', '(intestines)']), (0.06785473197598083, ['It', 'should', 'not', 'be', 'applied', 'to', 'broken', 'or', 'damaged', 'skin']), (0.053290964723463646, ['Acnesol', 'Gel', 'is', 'an', 'antibiotic', 'that', 'fights', 'bacteria']), (0.04587716022995424, ['You', 'should', 'normally', 'wash', 'and', 'dry', 'the', 'affected', 'area', 'before', 'applying', 'a', 'thin', 'layer', 'of', 'the', 'medicine']), (0.04283429551027731, ['Rinse', 'it', 'off', 'with', 'water', 'if', 'you', 'accidentally', 'get', 'it', 'in', 'these', 'areas']), (0.04162614519500214, ['It', 'is', 'used', 'to', 'treat', 'acne,', 'which', 'appears', 'as', 'spots', 'or', 'pimples', 'on', 'your', 'face,', 'chest', 'or', 'back']), (0.013274336283185844, ['These', 'are', 'usually', 'temporary', 'and', 'resolve', 'on', 'their', 'own']), (0.013274336283185844, ['Avoid', 'any', 'contact', 'with', 'your', 'eyes,', 'nose,', 'or', 'mouth'])]\n",
      "Summarize Text: \n",
      " Also, inform the doctor if you have ever had bloody diarrhea caused by taking antibiotics or if you are using any other medicines to treat skin conditions. This medicine works by attacking the bacteria that cause these pimples.Acnesol Gel is only meant for external use and should be used as advised by your doctor. Ask your doctor when you should stop treatment.Common side effects like minor itching, burning, or redness of the skin and oily skin may be seen in some people. Do not stop using it as soon as your acne starts to get better. It may take several weeks for your symptoms to improve, but you should keep using this medicine regularly\n"
     ]
    }
   ],
   "source": [
    "generate_summary(\"TASK.txt\")"
   ]
  },
  {
   "cell_type": "code",
   "execution_count": null,
   "metadata": {},
   "outputs": [],
   "source": []
  }
 ],
 "metadata": {
  "kernelspec": {
   "display_name": "Python 3",
   "language": "python",
   "name": "python3"
  },
  "language_info": {
   "codemirror_mode": {
    "name": "ipython",
    "version": 3
   },
   "file_extension": ".py",
   "mimetype": "text/x-python",
   "name": "python",
   "nbconvert_exporter": "python",
   "pygments_lexer": "ipython3",
   "version": "3.8.2"
  }
 },
 "nbformat": 4,
 "nbformat_minor": 4
}
